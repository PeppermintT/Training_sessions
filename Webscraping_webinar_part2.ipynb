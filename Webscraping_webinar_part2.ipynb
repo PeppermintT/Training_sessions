{
 "cells": [
  {
   "cell_type": "markdown",
   "metadata": {},
   "source": [
    "UK Data Service Webscraping seminar 13 May 2020 - More complex example\n"
   ]
  },
  {
   "cell_type": "markdown",
   "metadata": {},
   "source": [
    "Working through the webinar....part 2 (slightly more complex example)\n",
    "\n",
    "We're going to scrape some data from the Charity Commission website."
   ]
  },
  {
   "cell_type": "code",
   "execution_count": 15,
   "metadata": {},
   "outputs": [],
   "source": [
    "# Import modules needed \n",
    "\n",
    "import requests # module for requesting urls\n",
    "import os # module for performing operating system tasks\n",
    "import pandas as pd # module for working with datasets\n",
    "from IPython.display import IFrame # module for embedding web pages, documents etc\n",
    "from bs4 import BeautifulSoup as soup # module for parsing web pages"
   ]
  },
  {
   "cell_type": "markdown",
   "metadata": {},
   "source": [
    "Identifying the web address\n",
    "\n",
    "We're going to use the Charity Commission for England and Wales' website to capture policy data: <a href=\"https://beta.charitycommission.gov.uk/\" target=_blank>https://beta.charitycommission.gov.uk/</a>\n",
    "\n",
    "We're going to focus on just one charity for now - Oxfam; therefore the web address looks like this: <a href=\"https://beta.charitycommission.gov.uk/charity-details/?regId=202918&subId=0\" target=_blank>https://beta.charitycommission.gov.uk/charity-details/?regId=202918&subId=0</a>\n"
   ]
  },
  {
   "cell_type": "code",
   "execution_count": 16,
   "metadata": {},
   "outputs": [
    {
     "data": {
      "text/html": [
       "\n",
       "        <iframe\n",
       "            width=\"800\"\n",
       "            height=\"650\"\n",
       "            src=\"https://beta.charitycommission.gov.uk/charity-details/?regId=202918&subId=0\"\n",
       "            frameborder=\"0\"\n",
       "            allowfullscreen\n",
       "        ></iframe>\n",
       "        "
      ],
      "text/plain": [
       "<IPython.lib.display.IFrame at 0x214453eb9b0>"
      ]
     },
     "execution_count": 16,
     "metadata": {},
     "output_type": "execute_result"
    }
   ],
   "source": [
    "#So basically IFrame simply embeds the webpage in my Jupyter Notebook\n",
    "IFrame(\"https://beta.charitycommission.gov.uk/charity-details/?regId=202918&subId=0\", width=\"800\", height=\"650\")"
   ]
  },
  {
   "cell_type": "markdown",
   "metadata": {},
   "source": [
    "Locating information\n",
    "\n",
    "Policy data is located in the Documents tab under a heading called Policies, which in terms of the source code is here:\n",
    "Policies\n",
    "Risk management\n",
    "Investment\n",
    "Safeguarding vulnerable beneficiaries\n",
    "Conflicts of interest\n",
    "Volunteer management\n",
    "Complaints handling\n",
    "Paying staff"
   ]
  },
  {
   "cell_type": "code",
   "execution_count": 17,
   "metadata": {},
   "outputs": [
    {
     "data": {
      "text/plain": [
       "200"
      ]
     },
     "execution_count": 17,
     "metadata": {},
     "output_type": "execute_result"
    }
   ],
   "source": [
    "#Requesting the webpage\n",
    "#Now that we possess the necessary information, let's begin the process of scraping the web page.\n",
    "\n",
    "url = \"https://beta.charitycommission.gov.uk/charity-details/?regId=202918&subId=0\"\n",
    "\n",
    "response = requests.get(url, allow_redirects=True)\n",
    "response.status_code"
   ]
  },
  {
   "cell_type": "code",
   "execution_count": 23,
   "metadata": {},
   "outputs": [],
   "source": [
    "#Next we parse the webpage\n",
    "soup_response = soup(response.text, \"html.parser\")\n",
    "#soup_response.body # view HTML code"
   ]
  },
  {
   "cell_type": "markdown",
   "metadata": {},
   "source": [
    "The next bit is fiddly - we need to look at the source html and work out where the content that\n",
    "we are interested in is located. The policies are contained within a set of <div></div> tags where the class attribute equals \"pcg-charity-details__block col-lg-6\". There are multiple sets of tags with this id, therefore we need to use the find_all() method."
   ]
  },
  {
   "cell_type": "code",
   "execution_count": 24,
   "metadata": {},
   "outputs": [
    {
     "data": {
      "text/plain": [
       "7"
      ]
     },
     "execution_count": 24,
     "metadata": {},
     "output_type": "execute_result"
    }
   ],
   "source": [
    "sections = soup_response.find_all(\"div\", class_=\"pcg-charity-details__block col-lg-6\")\n",
    "len(sections) # view how many sets of tags are returned"
   ]
  },
  {
   "cell_type": "code",
   "execution_count": 25,
   "metadata": {},
   "outputs": [
    {
     "name": "stdout",
     "output_type": "stream",
     "text": [
      "5\n"
     ]
    },
    {
     "data": {
      "text/plain": [
       "<div class=\"pcg-charity-details__block col-lg-6\">\n",
       "<h3>Policies</h3>\n",
       "<span>Risk management</span>\n",
       "<br/>\n",
       "<span>Investment</span>\n",
       "<br/>\n",
       "<span>Safeguarding vulnerable beneficiaries</span>\n",
       "<br/>\n",
       "<span>Conflicts of interest</span>\n",
       "<br/>\n",
       "<span>Volunteer management</span>\n",
       "<br/>\n",
       "<span>Complaints handling</span>\n",
       "<br/>\n",
       "<span>Paying staff</span>\n",
       "<br/>\n",
       "</div>"
      ]
     },
     "execution_count": 25,
     "metadata": {},
     "output_type": "execute_result"
    }
   ],
   "source": [
    "#So we have multiple sets of tags and need to identify the right one\n",
    "\n",
    "searchterm = \"Policies\" # search term identifying section containing list of policies\n",
    "\n",
    "for section in sections: # for each section contained in the sections list:\n",
    "    if searchterm in str(section): # if the search term exists in the section\n",
    "        policy_location = sections.index(section) # store the list location of the correct section\n",
    "        print(policy_location) # view the location of the policies in the list (i.e, is it the first element in the list?)\n",
    "    else:\n",
    "        continue\n",
    "\n",
    "policy_section = sections[policy_location] # create a new variable containing the correct section\n",
    "policy_section\n",
    "\n",
    "#this bit of code has identified the part of the html that contains the policy info we \n",
    "#are interested in."
   ]
  },
  {
   "cell_type": "markdown",
   "metadata": {},
   "source": [
    "Let's unpick the logic of the code above:\n",
    "\n",
    "-We know the list of policies is contained in a section (<div>) where class_=\"pcg-charity-details__block col-lg-6\".\n",
    "-We find all sections where the class attribute equals \"pcg-charity-details__block col-lg-6\", and navigate to the correct one by evaluating whether it contains a relevant piece of text (\"Policies\"). \n",
    "-This process revealed that the list of policies was contained in the sixth section (remember: lists begin at position 0, so 5 identifies the sixth element of a list). If we knew that the list of beneficiaries was always contained in the fifth section we wouldn't need the use of a search term, but this way is more robust to deviations in the structure and content of each charity's web page.\n"
   ]
  },
  {
   "cell_type": "code",
   "execution_count": 26,
   "metadata": {},
   "outputs": [
    {
     "data": {
      "text/plain": [
       "[['Oxfam', 'Risk management'],\n",
       " ['Oxfam', 'Investment'],\n",
       " ['Oxfam', 'Safeguarding vulnerable beneficiaries'],\n",
       " ['Oxfam', 'Conflicts of interest'],\n",
       " ['Oxfam', 'Volunteer management'],\n",
       " ['Oxfam', 'Complaints handling'],\n",
       " ['Oxfam', 'Paying staff']]"
      ]
     },
     "execution_count": 26,
     "metadata": {},
     "output_type": "execute_result"
    }
   ],
   "source": [
    "#Now that we have the correct set of <div></div> tags, we need to extract the policy data from \n",
    "#with the <span></span> tags.\n",
    "policy_list = [] # define a blank list for storing the policy data\n",
    "charity_name = \"Oxfam\" # define a variable for storing the charity's name\n",
    "\n",
    "for tag in policy_section.find_all(\"span\"): # for each set of span tags in the policy section\n",
    "    policy = tag.text # extract the text from the tag\n",
    "    observation = [charity_name, policy] # combine charity name and a policy\n",
    "    policy_list.append(observation) # append the charity name and policy to the blank list\n",
    "    \n",
    "policy_list # view list of policies for the charity (long format)"
   ]
  },
  {
   "cell_type": "markdown",
   "metadata": {},
   "source": [
    "Again, let's unpack the code above:\n",
    "\n",
    "    We define a variable called policy_list which will store the extracted text; at this point the list is empty. We also define a variable for storing the charity's name (charity_name).\n",
    "    Then, for each set of <span></span> tags in the policy_section variable, we extract the text from within the tags. We also define a variable called observation with stores a list of values: a charity's name and a given policy; finally we append the information to the empty list.\n",
    "\n"
   ]
  },
  {
   "cell_type": "code",
   "execution_count": 27,
   "metadata": {},
   "outputs": [
    {
     "data": {
      "text/html": [
       "<div>\n",
       "<style scoped>\n",
       "    .dataframe tbody tr th:only-of-type {\n",
       "        vertical-align: middle;\n",
       "    }\n",
       "\n",
       "    .dataframe tbody tr th {\n",
       "        vertical-align: top;\n",
       "    }\n",
       "\n",
       "    .dataframe thead th {\n",
       "        text-align: right;\n",
       "    }\n",
       "</style>\n",
       "<table border=\"1\" class=\"dataframe\">\n",
       "  <thead>\n",
       "    <tr style=\"text-align: right;\">\n",
       "      <th></th>\n",
       "      <th>charity_name</th>\n",
       "      <th>policy</th>\n",
       "    </tr>\n",
       "  </thead>\n",
       "  <tbody>\n",
       "    <tr>\n",
       "      <th>0</th>\n",
       "      <td>Oxfam</td>\n",
       "      <td>Risk management</td>\n",
       "    </tr>\n",
       "    <tr>\n",
       "      <th>1</th>\n",
       "      <td>Oxfam</td>\n",
       "      <td>Investment</td>\n",
       "    </tr>\n",
       "    <tr>\n",
       "      <th>2</th>\n",
       "      <td>Oxfam</td>\n",
       "      <td>Safeguarding vulnerable beneficiaries</td>\n",
       "    </tr>\n",
       "    <tr>\n",
       "      <th>3</th>\n",
       "      <td>Oxfam</td>\n",
       "      <td>Conflicts of interest</td>\n",
       "    </tr>\n",
       "    <tr>\n",
       "      <th>4</th>\n",
       "      <td>Oxfam</td>\n",
       "      <td>Volunteer management</td>\n",
       "    </tr>\n",
       "    <tr>\n",
       "      <th>5</th>\n",
       "      <td>Oxfam</td>\n",
       "      <td>Complaints handling</td>\n",
       "    </tr>\n",
       "    <tr>\n",
       "      <th>6</th>\n",
       "      <td>Oxfam</td>\n",
       "      <td>Paying staff</td>\n",
       "    </tr>\n",
       "  </tbody>\n",
       "</table>\n",
       "</div>"
      ],
      "text/plain": [
       "  charity_name                                 policy\n",
       "0        Oxfam                        Risk management\n",
       "1        Oxfam                             Investment\n",
       "2        Oxfam  Safeguarding vulnerable beneficiaries\n",
       "3        Oxfam                  Conflicts of interest\n",
       "4        Oxfam                   Volunteer management\n",
       "5        Oxfam                    Complaints handling\n",
       "6        Oxfam                           Paying staff"
      ]
     },
     "execution_count": 27,
     "metadata": {},
     "output_type": "execute_result"
    }
   ],
   "source": [
    "#Saving the webscaped info; converting it into pandas dataframe\n",
    "policy_data = pd.DataFrame(list(policy_list), columns=[\"charity_name\", \"policy\"])\n",
    "policy_data"
   ]
  },
  {
   "cell_type": "code",
   "execution_count": null,
   "metadata": {},
   "outputs": [],
   "source": []
  }
 ],
 "metadata": {
  "kernelspec": {
   "display_name": "Python 3",
   "language": "python",
   "name": "python3"
  },
  "language_info": {
   "codemirror_mode": {
    "name": "ipython",
    "version": 3
   },
   "file_extension": ".py",
   "mimetype": "text/x-python",
   "name": "python",
   "nbconvert_exporter": "python",
   "pygments_lexer": "ipython3",
   "version": "3.6.5"
  }
 },
 "nbformat": 4,
 "nbformat_minor": 2
}
